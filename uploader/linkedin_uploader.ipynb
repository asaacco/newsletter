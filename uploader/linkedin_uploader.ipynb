{
 "cells": [
  {
   "cell_type": "code",
   "execution_count": 3,
   "metadata": {},
   "outputs": [
    {
     "name": "stderr",
     "output_type": "stream",
     "text": [
      "ERROR: Could not find a version that satisfies the requirement reqeusts (from versions: none)\n",
      "ERROR: No matching distribution found for reqeusts\n"
     ]
    }
   ],
   "source": [
    "!pip install reqeusts"
   ]
  },
  {
   "cell_type": "code",
   "execution_count": null,
   "metadata": {},
   "outputs": [
    {
     "name": "stdout",
     "output_type": "stream",
     "text": [
      "Failed to fetch user ID. Status Code: 403, Response: {\"status\":403,\"serviceErrorCode\":100,\"code\":\"ACCESS_DENIED\",\"message\":\"Not enough permissions to access: me.GET.NO_VERSION\"}\n"
     ]
    },
    {
     "ename": "Exception",
     "evalue": "Failed to fetch user ID",
     "output_type": "error",
     "traceback": [
      "\u001b[1;31m---------------------------------------------------------------------------\u001b[0m",
      "\u001b[1;31mException\u001b[0m                                 Traceback (most recent call last)",
      "Cell \u001b[1;32mIn[10], line 114\u001b[0m\n\u001b[0;32m    112\u001b[0m title \u001b[38;5;241m=\u001b[39m \u001b[38;5;124m\"\u001b[39m\u001b[38;5;124mtitle test\u001b[39m\u001b[38;5;124m\"\u001b[39m\n\u001b[0;32m    113\u001b[0m description \u001b[38;5;241m=\u001b[39m \u001b[38;5;124m\"\u001b[39m\u001b[38;5;124mdescription_test\u001b[39m\u001b[38;5;124m\"\u001b[39m\n\u001b[1;32m--> 114\u001b[0m \u001b[43mLinkedinAutomate\u001b[49m\u001b[43m(\u001b[49m\u001b[43maccess_token\u001b[49m\u001b[43m,\u001b[49m\u001b[43m \u001b[49m\u001b[43myt_url\u001b[49m\u001b[43m,\u001b[49m\u001b[43m \u001b[49m\u001b[43mtitle\u001b[49m\u001b[43m,\u001b[49m\u001b[43m \u001b[49m\u001b[43mdescription\u001b[49m\u001b[43m)\u001b[49m\u001b[38;5;241;43m.\u001b[39;49m\u001b[43mmain_func\u001b[49m\u001b[43m(\u001b[49m\u001b[43m)\u001b[49m\n",
      "Cell \u001b[1;32mIn[10], line 99\u001b[0m, in \u001b[0;36mLinkedinAutomate.main_func\u001b[1;34m(self)\u001b[0m\n\u001b[0;32m     98\u001b[0m \u001b[38;5;28;01mdef\u001b[39;00m \u001b[38;5;21mmain_func\u001b[39m(\u001b[38;5;28mself\u001b[39m):\n\u001b[1;32m---> 99\u001b[0m     \u001b[38;5;28mself\u001b[39m\u001b[38;5;241m.\u001b[39muser_id \u001b[38;5;241m=\u001b[39m \u001b[38;5;28;43mself\u001b[39;49m\u001b[38;5;241;43m.\u001b[39;49m\u001b[43mget_user_id\u001b[49m\u001b[43m(\u001b[49m\u001b[43m)\u001b[49m\n\u001b[0;32m    100\u001b[0m     \u001b[38;5;28mprint\u001b[39m(\u001b[38;5;28mself\u001b[39m\u001b[38;5;241m.\u001b[39muser_id)\n\u001b[0;32m    102\u001b[0m     feed_post \u001b[38;5;241m=\u001b[39m \u001b[38;5;28mself\u001b[39m\u001b[38;5;241m.\u001b[39mfeed_post()\n",
      "Cell \u001b[1;32mIn[10], line 72\u001b[0m, in \u001b[0;36mLinkedinAutomate.get_user_id\u001b[1;34m(self)\u001b[0m\n\u001b[0;32m     70\u001b[0m \u001b[38;5;28;01mif\u001b[39;00m response\u001b[38;5;241m.\u001b[39mstatus_code \u001b[38;5;241m!=\u001b[39m \u001b[38;5;241m200\u001b[39m:\n\u001b[0;32m     71\u001b[0m     \u001b[38;5;28mprint\u001b[39m(\u001b[38;5;124mf\u001b[39m\u001b[38;5;124m\"\u001b[39m\u001b[38;5;124mFailed to fetch user ID. Status Code: \u001b[39m\u001b[38;5;132;01m{\u001b[39;00mresponse\u001b[38;5;241m.\u001b[39mstatus_code\u001b[38;5;132;01m}\u001b[39;00m\u001b[38;5;124m, Response: \u001b[39m\u001b[38;5;132;01m{\u001b[39;00mresponse\u001b[38;5;241m.\u001b[39mtext\u001b[38;5;132;01m}\u001b[39;00m\u001b[38;5;124m\"\u001b[39m)\n\u001b[1;32m---> 72\u001b[0m     \u001b[38;5;28;01mraise\u001b[39;00m \u001b[38;5;167;01mException\u001b[39;00m(\u001b[38;5;124m\"\u001b[39m\u001b[38;5;124mFailed to fetch user ID\u001b[39m\u001b[38;5;124m\"\u001b[39m)\n\u001b[0;32m     74\u001b[0m \u001b[38;5;28;01mtry\u001b[39;00m:\n\u001b[0;32m     75\u001b[0m     jsonData \u001b[38;5;241m=\u001b[39m response\u001b[38;5;241m.\u001b[39mjson()\n",
      "\u001b[1;31mException\u001b[0m: Failed to fetch user ID"
     ]
    }
   ],
   "source": [
    "import requests\n",
    "import json\n",
    "\n",
    "class LinkedinAutomate:\n",
    "    def __init__(self, access_token):\n",
    "        self.access_token = access_token\n",
    "        self.headers = {\n",
    "            'Authorization': f'Bearer {self.access_token}',\n",
    "            'Content-Type': 'application/json'\n",
    "        }\n",
    "\n",
    "    def post_test_message(self):\n",
    "        url = \"https://api.linkedin.com/v2/ugcPosts\"\n",
    "        payload = json.dumps({\n",
    "            \"author\": \"urn:li:person:YOUR_USER_ID\",  # YOUR_USER_ID를 사용자 ID로 대체\n",
    "            \"lifecycleState\": \"PUBLISHED\",\n",
    "            \"specificContent\": {\n",
    "                \"com.linkedin.ugc.ShareContent\": {\n",
    "                    \"shareCommentary\": {\n",
    "                        \"text\": \"test\"  # 업로드할 텍스트\n",
    "                    },\n",
    "                    \"shareMediaCategory\": \"NONE\"\n",
    "                }\n",
    "            },\n",
    "            \"visibility\": {\n",
    "                \"com.linkedin.ugc.MemberNetworkVisibility\": \"PUBLIC\"\n",
    "            }\n",
    "        })\n",
    "\n",
    "        response = requests.post(url, headers=self.headers, data=payload)\n",
    "        print(f\"Status Code: {response.status_code}\")\n",
    "        print(f\"Response: {response.text}\")\n",
    "\n",
    "# LinkedIn access token\n",
    "access_token = \"YOUR_ACCESS_TOKEN\"  # 실제 유효한 Access Token을 입력\n",
    "linkedin = LinkedinAutomate(access_token)\n",
    "linkedin.post_test_message()\n"
   ]
  },
  {
   "cell_type": "code",
   "execution_count": 22,
   "metadata": {},
   "outputs": [
    {
     "name": "stdout",
     "output_type": "stream",
     "text": [
      "Error: 403, {\"status\":403,\"serviceErrorCode\":100,\"code\":\"ACCESS_DENIED\",\"message\":\"Not enough permissions to access: shares.GET.NO_VERSION\"}\n"
     ]
    }
   ],
   "source": [
    "import requests\n",
    "\n",
    "# Access Token 설정\n",
    "access_token = \"AQX-HCfI5Ufo_dYU1DEomXVHNoijkLc1KGGTNxyo5iGq2NFBkrqc0r8nZnfw53ld847JtI_35f9HtU_nVw4sT_bH86DJcukiFjkMtlXViReWN-k0E8mUurwUnrC2PGGZRdt44Cs9gGXP9iHHBdzVbpsUHcgJTFNSiLEIr5pdYB_GSEBIq-baxnVwMYP1nOkfea0lvcZG5ZXhZzdN154qu-igSSgYP_UXiWC2hgoq7ANCRgOerc8tpiRJr2Fe3mADtujOZM9avK8i0g1KG2qfcqi_jdhpAMYoqp-JJMHVbkHlAFMVazguo8O5YLl8v_I8Q3fQHyERe4LBlPuPHN7sY-EwUNvRzg\"\n",
    "# API 엔드포인트 및 헤더 설정\n",
    "url = \"https://api.linkedin.com/v2/shares/1234?projection=(id,owner)\"\n",
    "headers = {\n",
    "    \"Authorization\": f\"Bearer {access_token}\",\n",
    "    \"X-Restli-Protocol-Version\": \"2.0.0\"\n",
    "}\n",
    "\n",
    "# API 요청 보내기\n",
    "response = requests.get(url, headers=headers)\n",
    "\n",
    "# 응답 확인\n",
    "if response.status_code == 200:\n",
    "    print(\"Response:\", response.json())\n",
    "else:\n",
    "    print(f\"Error: {response.status_code}, {response.text}\")"
   ]
  },
  {
   "cell_type": "code",
   "execution_count": 23,
   "metadata": {},
   "outputs": [
    {
     "name": "stdout",
     "output_type": "stream",
     "text": [
      "사용자 ID를 가져오는 데 실패했습니다. 상태 코드: 403, 응답: {\"status\":403,\"serviceErrorCode\":100,\"code\":\"ACCESS_DENIED\",\"message\":\"Not enough permissions to access: me.GET.NO_VERSION\"}\n"
     ]
    }
   ],
   "source": [
    "import requests\n",
    "\n",
    "# 액세스 토큰 설정\n",
    "access_token = \"\"\"AQX-HCfI5Ufo_dYU1DEomXVHNoijkLc1KGGTNxyo5iGq2NFBkrqc0r8nZnfw53ld847JtI_35f9HtU_nVw4sT_bH86DJcukiFjkMtlXViReWN-k0E8mUurwUnrC2PGGZRdt44Cs9gGXP9iHHBdzVbpsUHcgJTFNSiLEIr5pdYB_GSEBIq-baxnVwMYP1nOkfea0lvcZG5ZXhZzdN154qu-igSSgYP_UXiWC2hgoq7ANCRgOerc8tpiRJr2Fe3mADtujOZM9avK8i0g1KG2qfcqi_jdhpAMYoqp-JJMHVbkHlAFMVazguo8O5YLl8v_I8Q3fQHyERe4LBlPuPHN7sY-EwUNvRzg\"\"\"  # 제공된 액세스 토큰\n",
    "\n",
    "# API 엔드포인트 및 헤더 설정\n",
    "url = \"https://api.linkedin.com/v2/me\"\n",
    "headers = {\n",
    "    \"Authorization\": f\"Bearer {access_token}\"\n",
    "}\n",
    "\n",
    "# API 요청\n",
    "response = requests.get(url, headers=headers)\n",
    "\n",
    "# 응답 확인\n",
    "if response.status_code == 200:\n",
    "    user_info = response.json()\n",
    "    user_id = user_info.get(\"iYYM87MUV1vd\")\n",
    "    print(f\"User URN: urn:li:person:{user_id}\")\n",
    "else:\n",
    "    print(f\"사용자 ID를 가져오는 데 실패했습니다. 상태 코드: {response.status_code}, 응답: {response.text}\")\n"
   ]
  },
  {
   "cell_type": "code",
   "execution_count": 24,
   "metadata": {},
   "outputs": [
    {
     "name": "stdout",
     "output_type": "stream",
     "text": [
      "게시물이 성공적으로 작성되었습니다!\n"
     ]
    }
   ],
   "source": [
    "import requests\n",
    "import json\n",
    "\n",
    "# 액세스 토큰 설정\n",
    "access_token = \"AQX-HCfI5Ufo_dYU1DEomXVHNoijkLc1KGGTNxyo5iGq2NFBkrqc0r8nZnfw53ld847JtI_35f9HtU_nVw4sT_bH86DJcukiFjkMtlXViReWN-k0E8mUurwUnrC2PGGZRdt44Cs9gGXP9iHHBdzVbpsUHcgJTFNSiLEIr5pdYB_GSEBIq-baxnVwMYP1nOkfea0lvcZG5ZXhZzdN154qu-igSSgYP_UXiWC2hgoq7ANCRgOerc8tpiRJr2Fe3mADtujOZM9avK8i0g1KG2qfcqi_jdhpAMYoqp-JJMHVbkHlAFMVazguo8O5YLl8v_I8Q3fQHyERe4LBlPuPHN7sY-EwUNvRzg\"\n",
    "  # 이전에 획득한 액세스 토큰을 사용하세요\n",
    "\n",
    "# API 엔드포인트 및 헤더 설정\n",
    "url = \"https://api.linkedin.com/v2/ugcPosts\"\n",
    "headers = {\n",
    "    \"Authorization\": f\"Bearer {access_token}\",\n",
    "    \"Content-Type\": \"application/json\",\n",
    "    \"X-Restli-Protocol-Version\": \"2.0.0\"\n",
    "}\n",
    "\n",
    "# 사용자 ID 설정\n",
    "author_urn = \"urn:li:person:YYM87MUV1v\"  # 사용자 ID를 urn 형식으로 설정하세요\n",
    "\n",
    "# 게시물 내용 설정\n",
    "post_data = {\n",
    "    \"author\": author_urn,\n",
    "    \"lifecycleState\": \"PUBLISHED\",\n",
    "    \"specificContent\": {\n",
    "        \"com.linkedin.ugc.ShareContent\": {\n",
    "            \"shareCommentary\": {\n",
    "                \"text\": \"안녕하세요, LinkedIn API를 통해 작성된 첫 번째 게시물입니다!\"\n",
    "            },\n",
    "            \"shareMediaCategory\": \"NONE\"\n",
    "        }\n",
    "    },\n",
    "    \"visibility\": {\n",
    "        \"com.linkedin.ugc.MemberNetworkVisibility\": \"PUBLIC\"\n",
    "    }\n",
    "}\n",
    "\n",
    "# POST 요청 보내기\n",
    "response = requests.post(url, headers=headers, data=json.dumps(post_data))\n",
    "\n",
    "# 응답 확인\n",
    "if response.status_code == 201:\n",
    "    print(\"게시물이 성공적으로 작성되었습니다!\")\n",
    "else:\n",
    "    print(f\"게시물 작성 실패: {response.status_code}, {response.text}\")\n"
   ]
  },
  {
   "cell_type": "code",
   "execution_count": 17,
   "metadata": {},
   "outputs": [
    {
     "name": "stdout",
     "output_type": "stream",
     "text": [
      "Status Code: 403\n",
      "Response: {\"status\":403,\"serviceErrorCode\":100,\"code\":\"ACCESS_DENIED\",\"message\":\"Field Value validation failed in REQUEST_BODY: Data Processing Exception while processing fields [/author]\"}\n"
     ]
    }
   ],
   "source": [
    "import requests\n",
    "import json\n",
    "\n",
    "class LinkedinAutomate:\n",
    "    def __init__(self, access_token, user_id):\n",
    "        self.access_token = access_token\n",
    "        self.user_id = user_id\n",
    "        self.headers = {\n",
    "            'Authorization': f'Bearer {self.access_token}',\n",
    "            'Content-Type': 'application/json'\n",
    "        }\n",
    "\n",
    "    def post_test_message(self):\n",
    "        \"\"\"\n",
    "        LinkedIn에 \"test\"라는 텍스트를 게시합니다.\n",
    "        \"\"\"\n",
    "        url = \"https://api.linkedin.com/v2/ugcPosts\"\n",
    "        payload = json.dumps({\n",
    "            \"author\": f\"urn:li:member:{self.user_id}\",  # LinkedIn 회원 ID\n",
    "            \"lifecycleState\": \"PUBLISHED\",\n",
    "            \"specificContent\": {\n",
    "                \"com.linkedin.ugc.ShareContent\": {\n",
    "                    \"shareCommentary\": {\n",
    "                        \"text\": \"test\"  # 게시물 내용\n",
    "                    },\n",
    "                    \"shareMediaCategory\": \"NONE\"\n",
    "                }\n",
    "            },\n",
    "            \"visibility\": {\n",
    "                \"com.linkedin.ugc.MemberNetworkVisibility\": \"PUBLIC\"\n",
    "            }\n",
    "        })\n",
    "\n",
    "        response = requests.post(url, headers=self.headers, data=payload)\n",
    "        print(f\"Status Code: {response.status_code}\")\n",
    "        print(f\"Response: {response.text}\")\n",
    "\n",
    "# LinkedIn Access Token (길이가 길어서 삼중 따옴표로 감쌉니다)\n",
    "access_token = \"\"\"AQX-HCfI5Ufo_dYU1DEomXVHNoijkLc1KGGTNxyo5iGq2NFBkrqc0r8nZnfw53ld847JtI_35f9HtU_nVw4sT_bH86DJcukiFjkMtlXViReWN-k0E8mUurwUnrC2PGGZRdt44Cs9gGXP9iHHBdzVbpsUHcgJTFNSiLEIr5pdYB_GSEBIq-baxnVwMYP1nOkfea0lvcZG5ZXhZzdN154qu-igSSgYP_UXiWC2hgoq7ANCRgOerc8tpiRJr2Fe3mADtujOZM9avK8i0g1KG2qfcqi_jdhpAMYoqp-JJMHVbkHlAFMVazguo8O5YLl8v_I8Q3fQHyERe4LBlPuPHN7sY-EwUNvRzg\"\"\"\n",
    "\n",
    "# LinkedIn User ID (LinkedIn /v2/me API 호출 결과에서 가져옵니다)\n",
    "user_id = \"103313896\"  # 적절한 사용자 ID로 대체\n",
    "\n",
    "# LinkedIn 게시물 업로드\n",
    "linkedin = LinkedinAutomate(access_token, user_id)\n",
    "linkedin.post_test_message()\n"
   ]
  },
  {
   "cell_type": "code",
   "execution_count": null,
   "metadata": {},
   "outputs": [
    {
     "ename": "SyntaxError",
     "evalue": "unterminated string literal (detected at line 5) (1728685144.py, line 5)",
     "output_type": "error",
     "traceback": [
      "\u001b[1;36m  Cell \u001b[1;32mIn[1], line 5\u001b[1;36m\u001b[0m\n\u001b[1;33m    access_token = \"AQX-HCfI5Ufo_dYU1DEomXVHNoijkLc1KGGTNxyo5iGq2NFBkrqc0r8nZnfw53ld847JtI_35f9HtU_nVw4sT_bH86DJcukiFjkMtlXViReWN-k0E8mUurwUnrC2PGGZRdt44Cs9gGXP9iHHBdzVbpsUHcgJTFNSiLEIr5pdYB_GSEBIq-baxnVwMYP1nOkfea0lvcZG5ZXhZzdN154qu-igSSgYP_UXiWC2hgoq7ANCRgOerc8tpiRJr2Fe3mADtujOZM9avK8i0g1KG2qfcqi_jdhpAMYoqp-JJMHVbkHlAFMVazguo8O5YLl8v_I8Q3fQHyERe4LBlPuPHN7sY-EwUNvRzg\u001b[0m\n\u001b[1;37m                   ^\u001b[0m\n\u001b[1;31mSyntaxError\u001b[0m\u001b[1;31m:\u001b[0m unterminated string literal (detected at line 5)\n"
     ]
    }
   ],
   "source": [
    "import requests\n",
    "\n",
    "# LinkedIn API endpoint for UGC Posts\n",
    "url = \"https://api.linkedin.com/v2/ugcPosts\"\n",
    "access_token = \"AQX-HCfI5Ufo_dYU1DEomXVHNoijkLc1KGGTNxyo5iGq2NFBkrqc0r8nZnfw53ld847JtI_35f9HtU_nVw4sT_bH86DJcukiFjkMtlXViReWN-k0E8mUurwUnrC2PGGZRdt44Cs9gGXP9iHHBdzVbpsUHcgJTFNSiLEIr5pdYB_GSEBIq-baxnVwMYP1nOkfea0lvcZG5ZXhZzdN154qu-igSSgYP_UXiWC2hgoq7ANCRgOerc8tpiRJr2Fe3mADtujOZM9avK8i0g1KG2qfcqi_jdhpAMYoqp-JJMHVbkHlAFMVazguo8O5YLl8v_I8Q3fQHyERe4LBlPuPHN7sY-EwUNvRzg\"\n",
    "\n",
    "# 헤더 설정\n",
    "headers = {\n",
    "    \"Authorization\": f\"Bearer {access_token}\",\n",
    "    \"Content-Type\": \"application/json\",\n",
    "    \"X-Restli-Protocol-Version\": \"2.0.0\",\n",
    "}\n",
    "\n",
    "# 게시물 데이터\n",
    "data = {\n",
    "    \"author\": \"urn:li:organization:103313896\",\n",
    "    \"lifecycleState\": \"PUBLISHED\",\n",
    "    \"specificContent\": {\n",
    "        \"com.linkedin.ugc.ShareContent\": {\n",
    "            \"shareCommentary\": {\n",
    "                \"text\": \"This is a test post from LinkedIn API.\"\n",
    "            },\n",
    "            \"shareMediaCategory\": \"NONE\",\n",
    "        }\n",
    "    },\n",
    "    \"visibility\": {\n",
    "        \"com.linkedin.ugc.MemberNetworkVisibility\": \"PUBLIC\",\n",
    "    },\n",
    "}\n",
    "\n",
    "# POST 요청 보내기\n",
    "response = requests.post(url, headers=headers, json=data)\n",
    "\n",
    "# 응답 확인\n",
    "if response.status_code == 201:\n",
    "    print(\"Post created successfully!\")\n",
    "    print(response.json())\n",
    "else:\n",
    "    print(\"Failed to create post\")\n",
    "    print(response.status_code, response.text)\n"
   ]
  },
  {
   "cell_type": "code",
   "execution_count": null,
   "metadata": {},
   "outputs": [
    {
     "name": "stdout",
     "output_type": "stream",
     "text": [
      "Failed to fetch user ID. Status Code: 403, Response: {\"status\":403,\"serviceErrorCode\":100,\"code\":\"ACCESS_DENIED\",\"message\":\"Not enough permissions to access: me.GET.NO_VERSION\"}\n"
     ]
    },
    {
     "ename": "Exception",
     "evalue": "Failed to fetch user ID",
     "output_type": "error",
     "traceback": [
      "\u001b[1;31m---------------------------------------------------------------------------\u001b[0m\n",
      "\u001b[1;31mException\u001b[0m                                 Traceback (most recent call last)\n",
      "Cell \u001b[1;32mIn[10], line 114\u001b[0m\n",
      "\u001b[0;32m    112\u001b[0m title \u001b[38;5;241m=\u001b[39m \u001b[38;5;124m\"\u001b[39m\u001b[38;5;124mtitle test\u001b[39m\u001b[38;5;124m\"\u001b[39m\n",
      "\u001b[0;32m    113\u001b[0m description \u001b[38;5;241m=\u001b[39m \u001b[38;5;124m\"\u001b[39m\u001b[38;5;124mdescription_test\u001b[39m\u001b[38;5;124m\"\u001b[39m\n",
      "\u001b[1;32m--> 114\u001b[0m \u001b[43mLinkedinAutomate\u001b[49m\u001b[43m(\u001b[49m\u001b[43maccess_token\u001b[49m\u001b[43m,\u001b[49m\u001b[43m \u001b[49m\u001b[43myt_url\u001b[49m\u001b[43m,\u001b[49m\u001b[43m \u001b[49m\u001b[43mtitle\u001b[49m\u001b[43m,\u001b[49m\u001b[43m \u001b[49m\u001b[43mdescription\u001b[49m\u001b[43m)\u001b[49m\u001b[38;5;241;43m.\u001b[39;49m\u001b[43mmain_func\u001b[49m\u001b[43m(\u001b[49m\u001b[43m)\u001b[49m\n",
      "\n",
      "Cell \u001b[1;32mIn[10], line 99\u001b[0m, in \u001b[0;36mLinkedinAutomate.main_func\u001b[1;34m(self)\u001b[0m\n",
      "\u001b[0;32m     98\u001b[0m \u001b[38;5;28;01mdef\u001b[39;00m \u001b[38;5;21mmain_func\u001b[39m(\u001b[38;5;28mself\u001b[39m):\n",
      "\u001b[1;32m---> 99\u001b[0m     \u001b[38;5;28mself\u001b[39m\u001b[38;5;241m.\u001b[39muser_id \u001b[38;5;241m=\u001b[39m \u001b[38;5;28;43mself\u001b[39;49m\u001b[38;5;241;43m.\u001b[39;49m\u001b[43mget_user_id\u001b[49m\u001b[43m(\u001b[49m\u001b[43m)\u001b[49m\n",
      "\u001b[0;32m    100\u001b[0m     \u001b[38;5;28mprint\u001b[39m(\u001b[38;5;28mself\u001b[39m\u001b[38;5;241m.\u001b[39muser_id)\n",
      "\u001b[0;32m    102\u001b[0m     feed_post \u001b[38;5;241m=\u001b[39m \u001b[38;5;28mself\u001b[39m\u001b[38;5;241m.\u001b[39mfeed_post()\n",
      "\n",
      "Cell \u001b[1;32mIn[10], line 72\u001b[0m, in \u001b[0;36mLinkedinAutomate.get_user_id\u001b[1;34m(self)\u001b[0m\n",
      "\u001b[0;32m     70\u001b[0m \u001b[38;5;28;01mif\u001b[39;00m response\u001b[38;5;241m.\u001b[39mstatus_code \u001b[38;5;241m!=\u001b[39m \u001b[38;5;241m200\u001b[39m:\n",
      "\u001b[0;32m     71\u001b[0m     \u001b[38;5;28mprint\u001b[39m(\u001b[38;5;124mf\u001b[39m\u001b[38;5;124m\"\u001b[39m\u001b[38;5;124mFailed to fetch user ID. Status Code: \u001b[39m\u001b[38;5;132;01m{\u001b[39;00mresponse\u001b[38;5;241m.\u001b[39mstatus_code\u001b[38;5;132;01m}\u001b[39;00m\u001b[38;5;124m, Response: \u001b[39m\u001b[38;5;132;01m{\u001b[39;00mresponse\u001b[38;5;241m.\u001b[39mtext\u001b[38;5;132;01m}\u001b[39;00m\u001b[38;5;124m\"\u001b[39m)\n",
      "\u001b[1;32m---> 72\u001b[0m     \u001b[38;5;28;01mraise\u001b[39;00m \u001b[38;5;167;01mException\u001b[39;00m(\u001b[38;5;124m\"\u001b[39m\u001b[38;5;124mFailed to fetch user ID\u001b[39m\u001b[38;5;124m\"\u001b[39m)\n",
      "\u001b[0;32m     74\u001b[0m \u001b[38;5;28;01mtry\u001b[39;00m:\n",
      "\u001b[0;32m     75\u001b[0m     jsonData \u001b[38;5;241m=\u001b[39m response\u001b[38;5;241m.\u001b[39mjson()\n",
      "\n",
      "\u001b[1;31mException\u001b[0m: Failed to fetch user ID"
     ]
    }
   ],
   "source": [
    "import requests\n",
    "import json\n",
    "\n",
    "class LinkedinAutomate:\n",
    "    def __init__(self, access_token):\n",
    "        self.access_token = access_token\n",
    "        self.headers = {\n",
    "            'Authorization': f'Bearer {self.access_token}',\n",
    "            'Content-Type': 'application/json'\n",
    "        }\n",
    "\n",
    "    def post_test_message(self):\n",
    "        url = \"https://api.linkedin.com/v2/ugcPosts\"\n",
    "        payload = json.dumps({\n",
    "            \"author\": \"urn:li:person:YOUR_USER_ID\",  # YOUR_USER_ID를 사용자 ID로 대체\n",
    "            \"lifecycleState\": \"PUBLISHED\",\n",
    "            \"specificContent\": {\n",
    "                \"com.linkedin.ugc.ShareContent\": {\n",
    "                    \"shareCommentary\": {\n",
    "                        \"text\": \"test\"  # 업로드할 텍스트\n",
    "                    },\n",
    "                    \"shareMediaCategory\": \"NONE\"\n",
    "                }\n",
    "            },\n",
    "            \"visibility\": {\n",
    "                \"com.linkedin.ugc.MemberNetworkVisibility\": \"PUBLIC\"\n",
    "            }\n",
    "        })\n",
    "\n",
    "        response = requests.post(url, headers=self.headers, data=payload)\n",
    "        print(f\"Status Code: {response.status_code}\")\n",
    "        print(f\"Response: {response.text}\")\n",
    "\n",
    "# LinkedIn access token\n",
    "access_token = \"YOUR_ACCESS_TOKEN\"  # 실제 유효한 Access Token을 입력\n",
    "linkedin = LinkedinAutomate(access_token)\n",
    "linkedin.post_test_message()\n"
   ]
  },
  {
   "cell_type": "code",
   "execution_count": 33,
   "metadata": {},
   "outputs": [
    {
     "name": "stdout",
     "output_type": "stream",
     "text": [
      "게시물 작성 실패: 400, {\"errorDetailType\":\"com.linkedin.common.error.BadRequest\",\"message\":\"com.linkedin.content.common.exception.BadRequestResponseException: ShareCommentary text length (4254 characters) exceeded the maximum allowed (3000 characters)\",\"errorDetails\":{\"inputErrors\":[{\"description\":\"Size of array cannot be higher than the maxLength\",\"input\":{\"value\":{\"stringValue\":\"ASAAC 일일 뉴스 브리핑 (AI/메타버스/로봇)\\n\\n\\\"아침 사과의 아삭함과 같이 오늘 하루도 화이팅하세요.\\\"\\n\\n# AI 동향 \\n\\n1/ SKT, SK컴즈 등 자회사 3곳 매각…\\\"통신·AI 집중\\\" [파이낸셜뉴스] (2024-12-27)\\nSK텔레콤이 통신과 인공지능(AI) 사업에 집중하기 위해 자회사 및 손자회사 3곳의 지분을 매각하기로 결정했습니다. 이는 AI 분야에서의 리더십을 강화하기 위한 전략적 행보로 볼 수 있습니다. 매각 후에도 해당 회사들과의 협력은 지속될 예정이며, 이는 SK텔레콤의 AI 생태계 확장과 지속 가능한 사업 운영에 긍정적인 영향을 줄 것입니다.\\n* 해당 기사: http://www.fnnews.com/news/202412270847573981\\n* 다른 기사: http://www.newstomato.com/ReadNews.aspx?no=1249188&inflow=N\\n\\n2/ 채택의무 없앤 ‘AI교과서 法’… 이주호 \\\"정부 거부권 필요\\\" [파이낸셜뉴스] (2024-12-27)\\nAI디지털교과서를 교과서가 아닌 교육자료로 규정한 법안이 국회를 통과하며, 교육부와 국회의 대립이 심화되고 있습니다. 이주호 부총리는 이에 대해 거부권 행사를 요청할 계획이라고 밝혔습니다. 이는 AI 교육의 중요성을 재확인하고, 보다 체계적인 법적 지위 확보를 위한 지속적인 논의와 조율이 필요함을 시사합니다.\\n* 해당 기사: http://www.fnnews.com/news/202412261826531053\\n* 다른 기사: https://www.joongang.co.kr/article/25303070\\n\\n3/ 산은, 반도체·AI 등 첨단전략산업에 3년간 100조 지원 [파이낸셜뉴스] (2024-12-27)\\nKDB산업은행이 반도체와 AI 등 첨단 전략산업 분야에 3년간 100조 원을 지원하기로 결정했습니다. 이는 국내 산업의 글로벌 경쟁력을 강화하고, 향후 신기술 개발과 혁신을 촉진하는 중요한 계기가 될 것입니다. 이러한 대규모 투자 결정은 한국 경제의 지속 가능한 성장을 위한 전략적 선택으로 평가받고 있습니다.\\n* 해당 기사: http://www.fnnews.com/news/202412261817408935\\n* 다른 기사: https://www.hankyung.com/article/2024122608921\\n\\n4/ 국회 넘은 AI 기본법…'고영향 AI' 구체적 기준 마련은 숙제 [파이낸셜뉴스] (2024-12-27)\\nAI 기본법이 국회 본회의를 통과하면서 한국은 유럽연합에 이어 두 번째로 AI 관련 법제를 마련한 국가가 되었습니다. 그러나 '고영향 AI'에 대한 구체적 기준 마련이 필요하다는 지적이 나오고 있습니다. 이는 AI 기술의 폭발적 발전 속에서 발생할 수 있는 윤리적, 사회적 문제를 해결하기 위한 필수적인 과정입니다.\\n* 해당 기사: http://www.fnnews.com/news/202412261825401171\\n* 다른 기사: http://www.newstomato.com/ReadNews.aspx?no=1249214&inflow=N\\n\\n5/ [fn이사람] \\\"일상·업무 속 AI 필요한 곳 찾아갑니다\\\" [파이낸셜뉴스] (2024-12-27)\\n한국지능정보사회진흥원의 장경미 부원장은 AI가 단순한 기술이 아닌 실생활과 업무에서 활용될 수 있는 도구가 되어야 한다고 강조했습니다. AI의 다양한 적용 가능성을 발굴하고, 이를 통해 일상과 업무 환경을 개선하기 위한 노력이 중요하다는 점을 시사합니다. 이는 AI 기술이 인간의 삶에 어떻게 긍정적인 영향을 미칠 수 있는지를 보여주는 사례로 볼 수 있습니다.\\n* 해당 기사: http://www.fnnews.com/news/202412261809476801\\n\\n\\n# 메타버스 동향 \\n\\n1/ 엔피, 'XR 스테이지' 일산 이전…내달 운영 [지디넷코리아] (2024-12-27)\\n엔피(NP)가 XR 콘텐츠 제작을 위한 '엔피 XR 스테이지'를 김포에서 경기도 일산으로 이전하고 내달부터 운영을 시작합니다. 새로운 스테이지는 실시간 렌더링과 카메라 트래킹 시스템 등 최신 기술을 도입하여 콘텐츠 제작의 효율성을 높일 계획입니다. 이는 국내 XR 콘텐츠 시장의 발전과 더불어 글로벌 경쟁력을 강화하는 데 기여할 것으로 기대됩니다.\\n* 해당 기사: https://zdnet.co.kr/view/?no=20241226091034\\n\\n2/ 폭스콘, AR 기기용 '마이크로 LED' 직접 만든다 [지디넷코리아언론사 선정] (2024-12-27)\\n대만 폭스콘이 AR 기기에 사용될 마이크로 LED 디스플레이를 자체 제작하기로 결정했습니다. 이는 디스플레이 기술의 혁신을 통한 AR 기기 시장의 경쟁력을 강화하려는 움직임으로, 폭스콘의 기술 확장을 엿볼 수 있는 사례입니다. 이러한 기술 개발은 AR 기기의 성능을 크게 향상시키고, 소비자 경험을 한층 높이는 계기가 될 것입니다.\\n* 해당 기사: https://zdnet.co.kr/view/?no=20241226012813\\n\\n\\n# 로봇 동향 \\n\\n1/ 아이나비시스템즈-KG모빌리티, 자율주행 기술 고도화 맞손 [대한경제] (2024-12-27)\\n아이나비시스템즈가 KG모빌리티와 자율주행 기술 고도화를 위한 협약을 체결했습니다. 이 협약을 통해 KG모빌리티의 운전자 지원 시스템인 'DEEP CONTROL'을 더욱 발전시킬 계획입니다. 이는 자율주행 기술의 상용화를 앞당기는 중요한 발걸음으로, 기술 혁신과 시장 선점을 목표로 하고 있습니다.\\n* 해당 기사: https://www.dnews.co.kr/uhtml/view.jsp?idxno=202412270908324110121\\n* 다른 기사: https://it.chosun.com/news/articleView.html?idxno=2023092130767\\n\\n2/ 포천시ㆍ㈜네온테크, 국방무인기 산업발전 협약 체결 [대한경제] (2024-12-27)\\n포천시와 네온테크가 국방무인기 산업 발전을 위한 업무 협약을 체결했습니다. 이번 협약은 포천시의 드론 산업 인프라 구축과 무인기 기술 발전에 기여할 것으로 기대됩니다. 이는 지역 경제 활성화와 함께 국방 분야의 첨단 기술 개발을 촉진하는 중요한 계기가 될 것입니다.\\n* 해당 기사: https://www.dnews.co.kr/uhtml/view.jsp?idxno=202412261003393420988\\n\\n3/ 현대로템, 대만 무인경전철 첫 편성 출고 [글로벌이코노믹] (2024-12-27)\\n현대로템이 대만 타오위안 그린라인 무인경전철을 처음으로 출고했습니다. 이번 출고는 무인경전철 분야에서의 기술력과 신뢰성을 입증하는 사례로, 현대로템의 글로벌 경쟁력을 강화하는 데 기여할 것입니다. 이러한 기술은 도시 교통 문제 해결과 지속 가능한 이동 수단 개발에 중요한 역할을 할 것으로 기대됩니다.\\n* 해당 기사: http://www.g-enews.com/ko-kr/news/article/news_all/202412270848539957112616b072_1/article.html\\n\\n4/ 日 오키나와 리조트, 자율주행차 활용 무인 판매 실증한다 [로봇신문] (2024-12-27)\\n오키나와의 카누차 리조트에서 자율주행차 '로보-샵'을 활용한 무인이동판매 실증 실험이 시작되었습니다. 이 실험은 자율주행 기술을 활용한 새로운 비즈니스 모델을 검증하는 데 중요한 역할을 하며, 향후 무인화 서비스의 상용화를 앞당길 수 있는 계기가 될 것입니다. 이러한 혁신은 관광 및 서비스 산업의 변화를 촉진할 것입니다.\\n* 해당 기사: http://www.irobotnews.com/news/articleView.html?idxno=37122\\n\\n5/ 도구공간-마음AI, 진흥원 서비스 로봇 실증사업 완수 [로봇신문] (2024-12-27)\\n도구공간과 마음AI가 협력하여 서비스 로봇 실증사업을 성공적으로 마무리했습니다. 이번 사업은 온디바이스 AI와 자율주행 로봇의 결합을 통해 무인화 서비스를 구현하는 데 중점을 두었습니다. 이러한 실증사업은 로봇 기술의 실용성을 입증하고, 향후 다양한 산업 분야로의 확장을 위한 기반을 마련하는 중요한 역할을 하고 있습니다.\\n* 해당 기사: http://www.irobotnews.com/news/articleView.html?idxno=37125\\n* 다른 기사: https://www.aitimes.com/news/articleView.html?idxno=166587\\n\\nASAAC Co.\\n* 출처: linkedin.com/company/asaac\\n* 더 자세한 AI/메타버스/로봇 관련 뉴스 기사 및 인사이트 (asaac)\\n* https://open.kakao.com/o/grtDi31g\\nCopyright 2024. ASAAC Co. all rights reserved.\"}},\"code\":\"FIELD_ARRAY_SIZE_TOO_HIGH\",\"maxLength\":3000}]},\"status\":400}\n"
     ]
    }
   ],
   "source": [
    "import requests\n",
    "import os\n",
    "from datetime import date\n",
    "\n",
    "# 액세스 토큰 설정\n",
    "access_token = \"AQX-HCfI5Ufo_dYU1DEomXVHNoijkLc1KGGTNxyo5iGq2NFBkrqc0r8nZnfw53ld847JtI_35f9HtU_nVw4sT_bH86DJcukiFjkMtlXViReWN-k0E8mUurwUnrC2PGGZRdt44Cs9gGXP9iHHBdzVbpsUHcgJTFNSiLEIr5pdYB_GSEBIq-baxnVwMYP1nOkfea0lvcZG5ZXhZzdN154qu-igSSgYP_UXiWC2hgoq7ANCRgOerc8tpiRJr2Fe3mADtujOZM9avK8i0g1KG2qfcqi_jdhpAMYoqp-JJMHVbkHlAFMVazguo8O5YLl8v_I8Q3fQHyERe4LBlPuPHN7sY-EwUNvRzg\"\n",
    "\n",
    "# API 엔드포인트 및 헤더 설정\n",
    "url = \"https://api.linkedin.com/v2/ugcPosts\"\n",
    "headers = {\n",
    "    \"Authorization\": f\"Bearer {access_token}\",\n",
    "    \"Content-Type\": \"application/json\",\n",
    "    \"X-Restli-Protocol-Version\": \"2.0.0\"\n",
    "}\n",
    "\n",
    "# 사용자 ID 설정\n",
    "author_urn = \"urn:li:person:YYM87MUV1v\"  # 사용자 ID를 urn 형식으로 설정하세요\n",
    "\n",
    "# 오늘 날짜와 파일 경로 설정\n",
    "TODAY = date.today().strftime(\"%Y-%m-%d\")\n",
    "selected_domain = \"ai\"  # 도메인 이름 설정\n",
    "file_path = os.path.join(\".\", \"kakao\", f\"{TODAY}_kakao_letter_{selected_domain}.txt\")\n",
    "\n",
    "# TXT 파일 읽기\n",
    "try:\n",
    "    with open(file_path, \"r\", encoding=\"utf-8\") as file:\n",
    "        post_text = file.read().strip()  # 파일의 모든 내용을 읽어와 게시물 내용으로 사용\n",
    "except FileNotFoundError:\n",
    "    print(f\"파일을 찾을 수 없습니다: {file_path}\")\n",
    "    exit(1)\n",
    "except Exception as e:\n",
    "    print(f\"파일을 읽는 데 실패했습니다: {e}\")\n",
    "    exit(1)\n",
    "\n",
    "# 게시물 내용 설정\n",
    "post_data = {\n",
    "    \"author\": author_urn,\n",
    "    \"lifecycleState\": \"PUBLISHED\",\n",
    "    \"specificContent\": {\n",
    "        \"com.linkedin.ugc.ShareContent\": {\n",
    "            \"shareCommentary\": {\n",
    "                \"text\": post_text  # TXT 파일에서 읽은 내용을 게시물 내용으로 사용\n",
    "            },\n",
    "            \"shareMediaCategory\": \"NONE\"\n",
    "        }\n",
    "    },\n",
    "    \"visibility\": {\n",
    "        \"com.linkedin.ugc.MemberNetworkVisibility\": \"PUBLIC\"\n",
    "    }\n",
    "}\n",
    "\n",
    "# POST 요청 보내기\n",
    "response = requests.post(url, headers=headers, data=json.dumps(post_data))\n",
    "\n",
    "# 응답 확인\n",
    "if response.status_code == 201:\n",
    "    print(\"게시물이 성공적으로 작성되었습니다!\")\n",
    "else:\n",
    "    print(f\"게시물 작성 실패: {response.status_code}, {response.text}\")\n"
   ]
  },
  {
   "cell_type": "code",
   "execution_count": 31,
   "metadata": {},
   "outputs": [
    {
     "name": "stdout",
     "output_type": "stream",
     "text": [
      "포스팅 실패: 403, {\"status\":403,\"serviceErrorCode\":100,\"code\":\"ACCESS_DENIED\",\"message\":\"Field Value validation failed in REQUEST_BODY: Data Processing Exception while processing fields [/author]\"}\n"
     ]
    }
   ],
   "source": [
    "import os\n",
    "import requests\n",
    "from datetime import date\n",
    "\n",
    "# LinkedIn API 설정\n",
    "ACCESS_TOKEN = \"AQXajnHPwIuQtAOYbvdjyYi_Q1z8Bs6XJ_3D28BV_G_2RDVYycYU4KWTeDwkY6Fl3DuBqXpOgIC9DQcNFXiQanMc_R_UxEVvsYyv7Zr3Nnx6wC8-FH9K2km2xxFYNqjoaLTcRcJHIHUtIaD2rlKqjZTcw74TGHslmbpWm2uCDjyF2N3be3THzba9xv5C-3Ygz0J-q_wE8QZm2cAAizopQqUMIQ2zQP3iSIwW4prTUvXBf8nuFwoHr-PvEayvjp7talwcdd94ps6yVAdCfeZZ_MoVPmg4aEQi5KRCSTesJ7TnA5nQ2MimyJijPiay1pbGFPzMKkE7mT-Bvm5pSCrpHJ0MsgJC5g\"\n",
    "API_URL = \"https://api.linkedin.com/v2/ugcPosts\"\n",
    "AUTHOR_URN = \"urn:li:organization:103313896\"\n",
    "\n",
    "# 오늘 날짜와 파일 경로 설정\n",
    "TODAY = date.today().strftime(\"%Y-%m-%d\")\n",
    "selected_domain = \"esg\"  # 도메인 이름 설정\n",
    "file_path = os.path.join(\".\", \"kakao\", f\"{TODAY}_kakao_letter_{selected_domain}.txt\")\n",
    "\n",
    "# 파일 읽기\n",
    "with open(file_path, 'r', encoding='utf-8') as f:\n",
    "    content = f.read()\n",
    "\n",
    "\n",
    "# LinkedIn 포스팅 데이터 준비\n",
    "payload = {\n",
    "    \"author\": AUTHOR_URN,  # 변수 값 참조\n",
    "    \"lifecycleState\": \"PUBLISHED\",\n",
    "    \"specificContent\": {\n",
    "        \"com.linkedin.ugc.ShareContent\": {\n",
    "            \"shareCommentary\": {\"text\": content},\n",
    "            \"shareMediaCategory\": \"NONE\",\n",
    "        }\n",
    "    },\n",
    "    \"visibility\": {\"com.linkedin.ugc.MemberNetworkVisibility\": \"PUBLIC\"},\n",
    "}\n",
    "\n",
    "# 헤더 설정\n",
    "headers = {\n",
    "    \"Authorization\": f\"Bearer {ACCESS_TOKEN}\",\n",
    "    \"Content-Type\": \"application/json\",\n",
    "}\n",
    "\n",
    "# LinkedIn에 포스팅\n",
    "response = requests.post(API_URL, headers=headers, json=payload)\n",
    "\n",
    "# 결과 출력\n",
    "if response.status_code == 201:\n",
    "    print(\"포스팅 성공!\")\n",
    "else:\n",
    "    print(f\"포스팅 실패: {response.status_code}, {response.text}\")\n",
    "\n",
    "#포스팅 실패: 403, {\"status\":403,\"serviceErrorCode\":100,\"code\":\"ACCESS_DENIED\",\"message\":\"Field Value validation failed in REQUEST_BODY: Data Processing Exception while processing fields [/author]\"}\n"
   ]
  },
  {
   "cell_type": "code",
   "execution_count": 21,
   "metadata": {},
   "outputs": [
    {
     "name": "stdout",
     "output_type": "stream",
     "text": [
      "Failed to fetch organization: 403, {\"status\":403,\"serviceErrorCode\":100,\"code\":\"ACCESS_DENIED\",\"message\":\"Not enough permissions to access: organizations.FINDER-vanityName.NO_VERSION\"}\n"
     ]
    }
   ],
   "source": [
    "import requests\n",
    "\n",
    "ACCESS_TOKEN = \"AQXElpjV6RVe7UG0Ewg91rryCFBQnCdhqVEiU1_x5z1SL1BcnmO9A8vaEDL5LJxCBGftxWr_8Jh-p04kgK9to65s-YKtkAimp6831E5DI6Eczsrs0BSj7tXgBURxmIb0PYn0H-vcN6JQ0oA6Pg0k-V3IhPe1ul01pORGWPgx-vSstalOgY7iEoLBELaDyhlUChG3919aHvrJLNFaNr2hC-3ZHxFgfOYHpcz3twbSz-1iT5kn-1XKUZSCs_M_ls1Ut_kANuakOCagCZE3810nyDYeqQDOpH4JU7o8TjvBQDICoiJOSxcj_QY4wXsbfYphSmBnJgR02_VqTH8qlsJpw0LzAmPb9w\"\n",
    "\n",
    "company_vanity_name = \"asaac\"  # 회사 페이지 URL의 Vanity Name\n",
    "\n",
    "url = f\"https://api.linkedin.com/v2/organizations?q=vanityName&vanityName={company_vanity_name}\"\n",
    "headers = {\"Authorization\": f\"Bearer {ACCESS_TOKEN}\"}\n",
    "\n",
    "response = requests.get(url, headers=headers)\n",
    "\n",
    "if response.status_code == 200:\n",
    "    org_data = response.json()\n",
    "    company_id = org_data[\"elements\"][0][\"id\"]\n",
    "    print(f\"Company ID: {company_id}\")\n",
    "else:\n",
    "    print(f\"Failed to fetch organization: {response.status_code}, {response.text}\")\n"
   ]
  },
  {
   "cell_type": "code",
   "execution_count": null,
   "metadata": {},
   "outputs": [],
   "source": []
  }
 ],
 "metadata": {
  "kernelspec": {
   "display_name": "Python 3",
   "language": "python",
   "name": "python3"
  },
  "language_info": {
   "codemirror_mode": {
    "name": "ipython",
    "version": 3
   },
   "file_extension": ".py",
   "mimetype": "text/x-python",
   "name": "python",
   "nbconvert_exporter": "python",
   "pygments_lexer": "ipython3",
   "version": "3.12.4"
  }
 },
 "nbformat": 4,
 "nbformat_minor": 2
}
